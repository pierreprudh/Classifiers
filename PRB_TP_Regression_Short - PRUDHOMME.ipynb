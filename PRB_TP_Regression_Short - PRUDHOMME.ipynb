{
  "cells": [
    {
      "attachments": {},
      "cell_type": "markdown",
      "id": "DzfJfOi8WRJp",
      "metadata": {
        "id": "DzfJfOi8WRJp"
      },
      "source": [
        "# 📝 Pattern Recognition & Biometrics. TP Régression\n",
        "\n",
        "Par Omar Galarraga et Sonia Garcia"
      ]
    },
    {
      "attachments": {},
      "cell_type": "markdown",
      "id": "EWDOsRaVWRJx",
      "metadata": {
        "id": "EWDOsRaVWRJx"
      },
      "source": [
        "L'objectif de ce travail pratique est de réaliser des tâches de régression : \n",
        "\n",
        "* Linéaire simple\n",
        "* Multilinéaire (avec et sans régularisation)\n",
        "* Non linéaire avec réseaux de neurones\n",
        "\n",
        "Nous voudrons prédire le prix médian des maisons californiennes par quartier en fonction de plusieurs variables quantitatives. \n",
        "\n",
        "Commençons par charger les données et regarder la description de la base de données :\n"
      ]
    },
    {
      "cell_type": "code",
      "execution_count": 22,
      "id": "tsw6rkteKky7",
      "metadata": {
        "id": "tsw6rkteKky7"
      },
      "outputs": [
        {
          "name": "stdout",
          "output_type": "stream",
          "text": [
            ".. _california_housing_dataset:\n",
            "\n",
            "California Housing dataset\n",
            "--------------------------\n",
            "\n",
            "**Data Set Characteristics:**\n",
            "\n",
            "    :Number of Instances: 20640\n",
            "\n",
            "    :Number of Attributes: 8 numeric, predictive attributes and the target\n",
            "\n",
            "    :Attribute Information:\n",
            "        - MedInc        median income in block group\n",
            "        - HouseAge      median house age in block group\n",
            "        - AveRooms      average number of rooms per household\n",
            "        - AveBedrms     average number of bedrooms per household\n",
            "        - Population    block group population\n",
            "        - AveOccup      average number of household members\n",
            "        - Latitude      block group latitude\n",
            "        - Longitude     block group longitude\n",
            "\n",
            "    :Missing Attribute Values: None\n",
            "\n",
            "This dataset was obtained from the StatLib repository.\n",
            "https://www.dcc.fc.up.pt/~ltorgo/Regression/cal_housing.html\n",
            "\n",
            "The target variable is the median house value for California districts,\n",
            "expressed in hundreds of thousands of dollars ($100,000).\n",
            "\n",
            "This dataset was derived from the 1990 U.S. census, using one row per census\n",
            "block group. A block group is the smallest geographical unit for which the U.S.\n",
            "Census Bureau publishes sample data (a block group typically has a population\n",
            "of 600 to 3,000 people).\n",
            "\n",
            "A household is a group of people residing within a home. Since the average\n",
            "number of rooms and bedrooms in this dataset are provided per household, these\n",
            "columns may take surprisingly large values for block groups with few households\n",
            "and many empty houses, such as vacation resorts.\n",
            "\n",
            "It can be downloaded/loaded using the\n",
            ":func:`sklearn.datasets.fetch_california_housing` function.\n",
            "\n",
            ".. topic:: References\n",
            "\n",
            "    - Pace, R. Kelley and Ronald Barry, Sparse Spatial Autoregressions,\n",
            "      Statistics and Probability Letters, 33 (1997) 291-297\n",
            "\n"
          ]
        }
      ],
      "source": [
        "from sklearn.datasets import fetch_california_housing\n",
        "import pandas as pd \n",
        "\n",
        "california_housing = fetch_california_housing(as_frame=True)\n",
        "\n",
        "print(california_housing.DESCR)"
      ]
    },
    {
      "attachments": {},
      "cell_type": "markdown",
      "id": "shFvcYh2K0fn",
      "metadata": {
        "id": "shFvcYh2K0fn"
      },
      "source": [
        "* 0.1) Montrez l'histogramme des variables (Piste : *california_housing.frame* contient une DataFrame de Pandas) "
      ]
    },
    {
      "cell_type": "code",
      "execution_count": 4,
      "id": "0Gzklw6ILcRd",
      "metadata": {
        "id": "0Gzklw6ILcRd"
      },
      "outputs": [
        {
          "data": {
            "image/png": "[encoded data removed]",
            "text/plain": [
              "<Figure size 432x288 with 9 Axes>"
            ]
          },
          "metadata": {
            "needs_background": "light"
          },
          "output_type": "display_data"
        }
      ],
      "source": [
        "import matplotlib.pyplot as plt \n",
        "\n",
        "data = california_housing.frame\n",
        "data.hist()\n",
        "plt.show()"
      ]
    },
    {
      "attachments": {},
      "cell_type": "markdown",
      "id": "ot2tF6FsWRJ0",
      "metadata": {
        "id": "ot2tF6FsWRJ0"
      },
      "source": [
        "## Partie I. Régression linéaire simple\n",
        "\n",
        "Calculez la matrice de corrélations.\n",
        "\n",
        "* I.1) Si vous deviez choisir une seule variable pour réaliser une régression linéaire simple, laquelle choisiriez-vous ? Pourquoi ? "
      ]
    },
    {
      "cell_type": "code",
      "execution_count": 5,
      "id": "3wRDkO5zWRJ3",
      "metadata": {
        "id": "3wRDkO5zWRJ3"
      },
      "outputs": [
        {
          "name": "stdout",
          "output_type": "stream",
          "text": [
            "               MedInc  HouseAge  AveRooms  AveBedrms  Population  AveOccup  \\\n",
            "MedInc       1.000000 -0.119034  0.326895  -0.062040    0.004834  0.018766   \n",
            "HouseAge    -0.119034  1.000000 -0.153277  -0.077747   -0.296244  0.013191   \n",
            "AveRooms     0.326895 -0.153277  1.000000   0.847621   -0.072213 -0.004852   \n",
            "AveBedrms   -0.062040 -0.077747  0.847621   1.000000   -0.066197 -0.006181   \n",
            "Population   0.004834 -0.296244 -0.072213  -0.066197    1.000000  0.069863   \n",
            "AveOccup     0.018766  0.013191 -0.004852  -0.006181    0.069863  1.000000   \n",
            "Latitude    -0.079809  0.011173  0.106389   0.069721   -0.108785  0.002366   \n",
            "Longitude   -0.015176 -0.108197 -0.027540   0.013344    0.099773  0.002476   \n",
            "MedHouseVal  0.688075  0.105623  0.151948  -0.046701   -0.024650 -0.023737   \n",
            "\n",
            "             Latitude  Longitude  MedHouseVal  \n",
            "MedInc      -0.079809  -0.015176     0.688075  \n",
            "HouseAge     0.011173  -0.108197     0.105623  \n",
            "AveRooms     0.106389  -0.027540     0.151948  \n",
            "AveBedrms    0.069721   0.013344    -0.046701  \n",
            "Population  -0.108785   0.099773    -0.024650  \n",
            "AveOccup     0.002366   0.002476    -0.023737  \n",
            "Latitude     1.000000  -0.924664    -0.144160  \n",
            "Longitude   -0.924664   1.000000    -0.045967  \n",
            "MedHouseVal -0.144160  -0.045967     1.000000  \n"
          ]
        }
      ],
      "source": [
        "cormat = data.corr()\n",
        "print(cormat)"
      ]
    },
    {
      "attachments": {},
      "cell_type": "markdown",
      "id": "2e26c88b",
      "metadata": {},
      "source": [
        "On doit choisir la variable qui possède la plus grande corrélation avec notre cible. Ici notre cible est MedHouseVal et la variable la plus corrélée est 'MedInc'."
      ]
    },
    {
      "attachments": {},
      "cell_type": "markdown",
      "id": "ma0pJiRGWRJ_",
      "metadata": {
        "id": "ma0pJiRGWRJ_"
      },
      "source": [
        "Nous voudrons créer un modèle $ \\hat{y} = ax + b $, où $ \\hat{y} $ est la prédiction du prix médian des maisons par quartier et $x$ est la caractéristique choisie en I.1.\n",
        "\n",
        "* I.2) Quelles sont les valeurs optimales de $ a $ et $ b $ ? "
      ]
    },
    {
      "cell_type": "code",
      "execution_count": 8,
      "id": "I5wcNSeVWRKA",
      "metadata": {
        "id": "I5wcNSeVWRKA"
      },
      "outputs": [
        {
          "name": "stdout",
          "output_type": "stream",
          "text": [
            "Coefficient a: 0.4179384920189389\n",
            "Coefficient b: 0.4508557670327886\n"
          ]
        }
      ],
      "source": [
        "import numpy as np\n",
        "\n",
        "x = data['MedInc']\n",
        "y = data['MedHouseVal']\n",
        "\n",
        "n = len(x)\n",
        "mean_x = np.mean(x)\n",
        "mean_y = np.mean(y)\n",
        "sum_xy = np.sum(x * y)\n",
        "sum_x_squared = np.sum(x**2)\n",
        "\n",
        "a = (sum_xy - n * mean_x * mean_y) / (sum_x_squared - n * mean_x**2)\n",
        "b = mean_y - a * mean_x\n",
        "\n",
        "# Afficher les coefficients\n",
        "print(\"Coefficient a:\", a)\n",
        "print(\"Coefficient b:\", b)"
      ]
    },
    {
      "attachments": {},
      "cell_type": "markdown",
      "id": "b8d6ea73",
      "metadata": {},
      "source": [
        "On utilise la formule analytique de la régression linéaire : \n",
        "- $ a = \\frac{ \\sum (x_i - \\hat{x})(y_i - \\hat{y})}{\\sum (x_i - \\hat{x} )}$\n",
        "- $ b = \\hat{y} - a*\\hat{x}$"
      ]
    },
    {
      "attachments": {},
      "cell_type": "markdown",
      "id": "Jta-ZsYaWRKC",
      "metadata": {
        "id": "Jta-ZsYaWRKC"
      },
      "source": [
        "* I.3) Quelle est la valeur de $R^2$ ? Est-ce un bon ajustement ? Commentez\n",
        "* I.4) Tracez la courbe de régression sur le nuage de points entre la sortie désirée et l'entrée"
      ]
    },
    {
      "cell_type": "code",
      "execution_count": 12,
      "id": "CRHCd08MWRKD",
      "metadata": {
        "collapsed": true,
        "id": "CRHCd08MWRKD"
      },
      "outputs": [
        {
          "name": "stdout",
          "output_type": "stream",
          "text": [
            "Le R2 de cette régression est : 0.4734474918071455\n"
          ]
        }
      ],
      "source": [
        "y_pred = a * x + b\n",
        "\n",
        "ssr = np.sum((y_pred - mean_y)**2)\n",
        "sst = np.sum((y - mean_y)**2)\n",
        "r_squared = ssr / sst\n",
        "\n",
        "print(f\"Le R2 de cette régression est : {r_squared}.\")"
      ]
    },
    {
      "cell_type": "code",
      "execution_count": 13,
      "id": "9007b629",
      "metadata": {},
      "outputs": [
        {
          "data": {
            "image/png": "[encoded data removed]",
            "text/plain": [
              "<Figure size 432x288 with 1 Axes>"
            ]
          },
          "metadata": {
            "needs_background": "light"
          },
          "output_type": "display_data"
        }
      ],
      "source": [
        "plt.scatter(x, y, color='blue', label='Données réelles')\n",
        "plt.plot(x, y_pred, color='red', label='Régression linéaire')\n",
        "plt.xlabel('Variable d\\'entrée')\n",
        "plt.ylabel('Variable cible')\n",
        "plt.legend()\n",
        "\n",
        "plt.show()"
      ]
    },
    {
      "attachments": {},
      "cell_type": "markdown",
      "id": "d4798da6",
      "metadata": {},
      "source": [
        "On trouve un R2 proche de 0.5 donc cela n'est pas une bonne nouvelle. On prédit 50% de faux pour 50% de vrai"
      ]
    },
    {
      "attachments": {},
      "cell_type": "markdown",
      "id": "PfXQyRljWRKF",
      "metadata": {
        "id": "PfXQyRljWRKF"
      },
      "source": [
        "* I.5) Quelle est l'erreur RMS de prédiction ? (en moyenne sur toutes les observations)"
      ]
    },
    {
      "cell_type": "code",
      "execution_count": 15,
      "id": "xN8xttmXWRKH",
      "metadata": {
        "id": "xN8xttmXWRKH"
      },
      "outputs": [
        {
          "name": "stdout",
          "output_type": "stream",
          "text": [
            "Erreur RMSE de prédiction : 0.8373357452616906\n"
          ]
        }
      ],
      "source": [
        "mse = np.mean((y_pred - y)**2)\n",
        "rmse = np.sqrt(mse)\n",
        "\n",
        "print(f\"Erreur RMSE de prédiction : {rmse}\")"
      ]
    },
    {
      "attachments": {},
      "cell_type": "markdown",
      "id": "J1IbednbWRKI",
      "metadata": {
        "id": "J1IbednbWRKI"
      },
      "source": [
        "## Partie II. Régression multilinéaire\n",
        "\n",
        "Maintenant réalisez une régression linéaire en utilisant toutes les caractéristiques disponibles. \n",
        "\n",
        "* II.1) Quelle est l'erreur de prédiction ?\n",
        "* II.2) Quelle est la valeur de $R^2$ ? L'ajustement est-il meilleur qu'avec une seule variable d'entrée ?\n",
        "* II.3) Quels sont les coefficients associés aux variables d'entrée, ainsi que le terme indépendant ?"
      ]
    },
    {
      "cell_type": "code",
      "execution_count": 20,
      "id": "SI7tyTgwWRKU",
      "metadata": {
        "id": "SI7tyTgwWRKU"
      },
      "outputs": [],
      "source": [
        "from sklearn.linear_model import LinearRegression\n",
        "from sklearn.metrics import mean_squared_error, r2_score\n",
        "\n",
        "X = data.drop('MedHouseVal', axis=1)\n",
        "y = data['MedHouseVal']\n",
        "\n",
        "model = LinearRegression()\n",
        "\n",
        "model.fit(X, y)\n",
        "\n",
        "y_pred = model.predict(X)"
      ]
    },
    {
      "cell_type": "code",
      "execution_count": 21,
      "id": "508ed110",
      "metadata": {},
      "outputs": [
        {
          "name": "stdout",
          "output_type": "stream",
          "text": [
            "Erreur RMSE de prédiction : 0.7241001216576387\n",
            "Coefficient de détermination R² : 0.606232685199805\n"
          ]
        }
      ],
      "source": [
        "rmse = np.sqrt(mean_squared_error(y, y_pred))\n",
        "print(\"Erreur RMSE de prédiction :\", rmse)\n",
        "\n",
        "r2 = r2_score(y, y_pred)\n",
        "print(\"Coefficient de détermination R² :\", r2)"
      ]
    },
    {
      "attachments": {},
      "cell_type": "markdown",
      "id": "2225b1e2",
      "metadata": {},
      "source": [
        "On obtient un R2 un peu plus grand que précédemment ce qi veut dire qu'on explicite un peu mieux le modèle."
      ]
    },
    {
      "cell_type": "code",
      "execution_count": 24,
      "id": "a2a887ab",
      "metadata": {},
      "outputs": [
        {
          "name": "stdout",
          "output_type": "stream",
          "text": [
            "Coefficients associés aux variables d'entrée :\n",
            "      Variable  Coefficient\n",
            "0      MedInc     0.436693\n",
            "1    HouseAge     0.009436\n",
            "2    AveRooms    -0.107322\n",
            "3   AveBedrms     0.645066\n",
            "4  Population    -0.000004\n",
            "5    AveOccup    -0.003787\n",
            "6    Latitude    -0.421314\n",
            "7   Longitude    -0.434514\n",
            "Terme indépendant (intercept) : -36.9419202071844\n"
          ]
        }
      ],
      "source": [
        "coefficients = pd.DataFrame({'Variable': X.columns, 'Coefficient': model.coef_})\n",
        "\n",
        "intercept = model.intercept_\n",
        "\n",
        "print(\"Coefficients associés aux variables d'entrée :\\n\", coefficients)\n",
        "print(\"Terme indépendant (intercept) :\", intercept)"
      ]
    },
    {
      "attachments": {},
      "cell_type": "markdown",
      "id": "f8fbf3b9",
      "metadata": {},
      "source": [
        "Le terme indépendant (intercept) est une valeur constante qui est ajoutée à la prédiction en l'absence de toutes les variables d'entrée."
      ]
    },
    {
      "attachments": {},
      "cell_type": "markdown",
      "id": "HxRPx84AWRKZ",
      "metadata": {
        "id": "HxRPx84AWRKZ"
      },
      "source": [
        "## Partie III. Régression non linéaire avec réseaux de neurones\n",
        "\n",
        "Construisez et entraînez un réseau de neurones type Perceptron Multicouche (PMC) à $N_{layer} = 3$ couches et avec $m=5$ neurones dans la couche cachée.\n",
        "\n",
        "N'oubliez pas de normaliser les données en prétraitement. "
      ]
    },
    {
      "cell_type": "code",
      "execution_count": 28,
      "id": "6DUG0ViJWRKa",
      "metadata": {
        "id": "6DUG0ViJWRKa"
      },
      "outputs": [],
      "source": [
        "from sklearn.model_selection import train_test_split\n",
        "from sklearn.preprocessing import StandardScaler\n",
        "import tensorflow as tf\n",
        "\n",
        "X = data.drop('MedHouseVal', axis=1)\n",
        "y = data['MedHouseVal']\n",
        "\n",
        "X_train, X_test, y_train, y_test = train_test_split(X, y, test_size=0.2)\n",
        "\n",
        "scaler = StandardScaler()\n",
        "X_train_scaled = scaler.fit_transform(X_train)\n",
        "X_test_scaled = scaler.transform(X_test)"
      ]
    },
    {
      "cell_type": "code",
      "execution_count": 32,
      "id": "7ee42233",
      "metadata": {},
      "outputs": [
        {
          "name": "stdout",
          "output_type": "stream",
          "text": [
            "Model: \"sequential_1\"\n",
            "_________________________________________________________________\n",
            " Layer (type)                Output Shape              Param #   \n",
            "=================================================================\n",
            " dense_3 (Dense)             (None, 5)                 45        \n",
            "                                                                 \n",
            " dense_4 (Dense)             (None, 5)                 30        \n",
            "                                                                 \n",
            " dense_5 (Dense)             (None, 1)                 6         \n",
            "                                                                 \n",
            "=================================================================\n",
            "Total params: 81\n",
            "Trainable params: 81\n",
            "Non-trainable params: 0\n",
            "_________________________________________________________________\n",
            "WARNING:tensorflow:Compiled the loaded model, but the compiled metrics have yet to be built. `model.compile_metrics` will be empty until you train or evaluate the model.\n"
          ]
        }
      ],
      "source": [
        "model = tf.keras.models.Sequential([\n",
        "    tf.keras.layers.Dense(5, activation='relu', input_shape=[X_train_scaled.shape[1]]),\n",
        "    tf.keras.layers.Dense(5, activation='relu'),\n",
        "    tf.keras.layers.Dense(1)\n",
        "])\n",
        "model.summary()\n",
        "model.save(\"./model/model_reg.h5\")"
      ]
    },
    {
      "cell_type": "code",
      "execution_count": 34,
      "id": "4145996b",
      "metadata": {},
      "outputs": [
        {
          "name": "stdout",
          "output_type": "stream",
          "text": [
            "Serving './model/model_reg.h5' at http://localhost:8080\n"
          ]
        },
        {
          "data": {
            "text/plain": [
              "('localhost', 8080)"
            ]
          },
          "execution_count": 34,
          "metadata": {},
          "output_type": "execute_result"
        }
      ],
      "source": [
        "import netron \n",
        "\n",
        "netron.start('./model/model_reg.h5')"
      ]
    },
    {
      "cell_type": "code",
      "execution_count": 36,
      "id": "dbf5e796",
      "metadata": {},
      "outputs": [
        {
          "name": "stdout",
          "output_type": "stream",
          "text": [
            "Epoch 1/20\n",
            "516/516 [==============================] - 2s 2ms/step - loss: 1.7231\n",
            "Epoch 2/20\n",
            "516/516 [==============================] - 1s 2ms/step - loss: 0.8379\n",
            "Epoch 3/20\n",
            "516/516 [==============================] - 1s 2ms/step - loss: 0.6501\n",
            "Epoch 4/20\n",
            "516/516 [==============================] - 1s 2ms/step - loss: 0.5444\n",
            "Epoch 5/20\n",
            "516/516 [==============================] - 1s 2ms/step - loss: 0.4906\n",
            "Epoch 6/20\n",
            "516/516 [==============================] - 1s 2ms/step - loss: 0.4635\n",
            "Epoch 7/20\n",
            "516/516 [==============================] - 1s 3ms/step - loss: 0.4461\n",
            "Epoch 8/20\n",
            "516/516 [==============================] - 1s 2ms/step - loss: 0.4315\n",
            "Epoch 9/20\n",
            "516/516 [==============================] - 1s 2ms/step - loss: 0.4203\n",
            "Epoch 10/20\n",
            "516/516 [==============================] - 1s 2ms/step - loss: 0.4132\n",
            "Epoch 11/20\n",
            "516/516 [==============================] - 1s 2ms/step - loss: 0.4081\n",
            "Epoch 12/20\n",
            "516/516 [==============================] - 1s 3ms/step - loss: 0.4015\n",
            "Epoch 13/20\n",
            "516/516 [==============================] - 1s 2ms/step - loss: 0.3971\n",
            "Epoch 14/20\n",
            "516/516 [==============================] - 1s 2ms/step - loss: 0.3941\n",
            "Epoch 15/20\n",
            "516/516 [==============================] - 1s 2ms/step - loss: 0.3907\n",
            "Epoch 16/20\n",
            "516/516 [==============================] - 1s 3ms/step - loss: 0.3883\n",
            "Epoch 17/20\n",
            "516/516 [==============================] - 1s 2ms/step - loss: 0.3866\n",
            "Epoch 18/20\n",
            "516/516 [==============================] - 1s 2ms/step - loss: 0.3838\n",
            "Epoch 19/20\n",
            "516/516 [==============================] - 1s 2ms/step - loss: 0.3811\n",
            "Epoch 20/20\n",
            "516/516 [==============================] - 1s 2ms/step - loss: 0.3797\n"
          ]
        },
        {
          "data": {
            "text/plain": [
              "<keras.callbacks.History at 0x145e3403d30>"
            ]
          },
          "execution_count": 36,
          "metadata": {},
          "output_type": "execute_result"
        }
      ],
      "source": [
        "model.compile(optimizer='adam', loss='mean_squared_error')\n",
        "\n",
        "model.fit(X_train_scaled, y_train, epochs=20, batch_size=32, verbose=1)"
      ]
    },
    {
      "cell_type": "code",
      "execution_count": 37,
      "id": "77ad3552",
      "metadata": {},
      "outputs": [
        {
          "name": "stdout",
          "output_type": "stream",
          "text": [
            "Erreur de prédiction (loss) : 0.36241793632507324\n"
          ]
        }
      ],
      "source": [
        "loss = model.evaluate(X_test_scaled, y_test, verbose=0)\n",
        "print(\"Erreur de prédiction (loss) :\", loss)"
      ]
    },
    {
      "attachments": {},
      "cell_type": "markdown",
      "id": "CIQyWFE6s6RY",
      "metadata": {
        "id": "CIQyWFE6s6RY"
      },
      "source": [
        "\n",
        "* III.1) Quelle est l'erreur RMS d'apprentissage ?"
      ]
    },
    {
      "cell_type": "code",
      "execution_count": 41,
      "id": "ymo2AiogWRKa",
      "metadata": {
        "collapsed": true,
        "id": "ymo2AiogWRKa"
      },
      "outputs": [
        {
          "name": "stdout",
          "output_type": "stream",
          "text": [
            "516/516 [==============================] - 1s 2ms/step\n",
            "Erreur RMSE d'apprentissage : 0.6139239366265802\n"
          ]
        }
      ],
      "source": [
        "y_pred_train = model.predict(X_train_scaled).flatten()\n",
        "\n",
        "mse_train = np.mean((y_pred_train - y_train)**2)\n",
        "rmse_train = np.sqrt(mse_train)\n",
        "\n",
        "print(\"Erreur RMSE d'apprentissage :\", rmse_train)"
      ]
    },
    {
      "attachments": {},
      "cell_type": "markdown",
      "id": "93fb403d",
      "metadata": {},
      "source": [
        "On oublie pas de flatten la prediction car sinon on obtient une erreur car on a un problème de dimension."
      ]
    },
    {
      "attachments": {},
      "cell_type": "markdown",
      "id": "C2zn3gc1jZnd",
      "metadata": {
        "id": "C2zn3gc1jZnd"
      },
      "source": [
        "* III.2) Pour une validation-croisée type K-Fold avec $K=10$ (mélangez l'ordre des observations), remplissez le tableau de RMSE de test ci-dessous selon les différents types de régression.\n",
        "\n",
        "| Type de régression | Fold 1 | Fold 2 | Fold 3 | Fold 4 | Fold 5 | Fold 6 | Fold 7 | Fold 8 | Fold 9 | Fold 10 |\n",
        "|--------------------|---------|--------|--------|-------|--------|-------|---------|--------|--------|---------|\n",
        "| Linéaire simple    |  |  |  |  |  |  |  |  |  |  |\n",
        "| Multilinéaire     |  |  |  |  |  |  |  |  |  |  |\n",
        "| Non linéaire avec NN    |  |  |  |  |  |  |  |  |  |  |\n",
        "\n",
        "\n",
        "* III.3) Quelle est la méthode de régression la plus adaptée pour ce problème ? Justifiez"
      ]
    },
    {
      "cell_type": "code",
      "execution_count": 45,
      "id": "31f6cb22",
      "metadata": {},
      "outputs": [
        {
          "name": "stdout",
          "output_type": "stream",
          "text": [
            "65/65 [==============================] - 0s 2ms/step\n",
            "65/65 [==============================] - 0s 1ms/step\n",
            "65/65 [==============================] - 0s 1ms/step\n",
            "65/65 [==============================] - 0s 1ms/step\n",
            "65/65 [==============================] - 0s 2ms/step\n",
            "65/65 [==============================] - 0s 2ms/step\n",
            "65/65 [==============================] - 0s 1ms/step\n",
            "65/65 [==============================] - 0s 2ms/step\n",
            "65/65 [==============================] - 0s 1ms/step\n",
            "65/65 [==============================] - 0s 1ms/step\n",
            "Tableau de RMSE de test :\n",
            "   Linéaire simple  Multilinéaire  Non linéaire avec NN\n",
            "0         0.843221       0.759125              0.619857\n",
            "1         0.819706       0.713792              0.601092\n",
            "2         0.829587       0.712799              0.609525\n",
            "3         0.808815       0.700666              0.605598\n",
            "4         0.854416       0.747236              0.616166\n",
            "5         0.846157       0.725629              0.613656\n",
            "6         0.848254       0.734986              0.657734\n",
            "7         0.838958       0.718605              0.620154\n",
            "8         0.853237       0.742495              0.625707\n",
            "9         0.831106       0.713843              0.591139\n"
          ]
        }
      ],
      "source": [
        "from sklearn.model_selection import KFold\n",
        "from sklearn.metrics import mean_squared_error\n",
        "\n",
        "k = 10\n",
        "\n",
        "regression_types = ['Linéaire simple', 'Multilinéaire', 'Non linéaire avec NN']\n",
        "\n",
        "rmse_table = {rt: [] for rt in regression_types}\n",
        "\n",
        "kf = KFold(n_splits=k, shuffle=True)\n",
        "\n",
        "for train_index, test_index in kf.split(X):\n",
        "    X_train, X_test = X.iloc[train_index], X.iloc[test_index]\n",
        "    y_train, y_test = y.iloc[train_index], y.iloc[test_index]\n",
        "    \n",
        "    lin_model = LinearRegression()\n",
        "    lin_model.fit(X_train[['MedInc']], y_train)\n",
        "    y_pred_lin = lin_model.predict(X_test[['MedInc']])\n",
        "    rmse_lin = np.sqrt(mean_squared_error(y_test, y_pred_lin))\n",
        "    rmse_table['Linéaire simple'].append(rmse_lin)\n",
        "    \n",
        "    multi_model = LinearRegression()\n",
        "    multi_model.fit(X_train, y_train)\n",
        "    y_pred_multi = multi_model.predict(X_test)\n",
        "    rmse_multi = np.sqrt(mean_squared_error(y_test, y_pred_multi))\n",
        "    rmse_table['Multilinéaire'].append(rmse_multi)\n",
        "\n",
        "    scaler = StandardScaler()\n",
        "    X_train_scaled = scaler.fit_transform(X_train)\n",
        "    X_test_scaled = scaler.transform(X_test)\n",
        "    y_pred_nn = model.predict(X_test_scaled).flatten()\n",
        "    rmse_nn = np.sqrt(mean_squared_error(y_test, y_pred_nn))\n",
        "    rmse_table['Non linéaire avec NN'].append(rmse_nn)\n",
        "\n",
        "print(\"Tableau de RMSE de test :\")\n",
        "print(pd.DataFrame(rmse_table))"
      ]
    },
    {
      "attachments": {},
      "cell_type": "markdown",
      "id": "0c1d3838",
      "metadata": {},
      "source": [
        "Ici on va donc choisir le modèle linéaire avec réseau de neuronnes car il a le RMSE le plus bas à chaque étape."
      ]
    }
  ],
  "metadata": {
    "colab": {
      "collapsed_sections": [],
      "name": "PRB_TP2_Regression.ipynb",
      "provenance": []
    },
    "jupytext": {
      "main_language": "python"
    },
    "kernelspec": {
      "display_name": "Python 3",
      "name": "python3"
    },
    "language_info": {
      "codemirror_mode": {
        "name": "ipython",
        "version": 3
      },
      "file_extension": ".py",
      "mimetype": "text/x-python",
      "name": "python",
      "nbconvert_exporter": "python",
      "pygments_lexer": "ipython3",
      "version": "3.9.7"
    },
    "nbreset": "https://raw.githubusercontent.com/INRIA/scikit-learn-mooc/main/notebooks/01_tabular_data_exploration_ex_01.ipynb"
  },
  "nbformat": 4,
  "nbformat_minor": 5
}
